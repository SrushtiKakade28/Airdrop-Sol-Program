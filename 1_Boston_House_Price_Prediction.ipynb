{
  "cells": [
    {
      "cell_type": "markdown",
      "metadata": {
        "id": "view-in-github",
        "colab_type": "text"
      },
      "source": [
        "<a href=\"https://colab.research.google.com/github/SrushtiKakade28/Airdrop-Sol-Program/blob/master/1_Boston_House_Price_Prediction.ipynb\" target=\"_parent\"><img src=\"https://colab.research.google.com/assets/colab-badge.svg\" alt=\"Open In Colab\"/></a>"
      ]
    },
    {
      "cell_type": "code",
      "execution_count": 5,
      "metadata": {
        "id": "IgstqWpYs6h2"
      },
      "outputs": [],
      "source": [
        "# If load_boston does not work then download the data and use this.\n",
        "# Data : https://github.com/afnan47/sem8/blob/master/DL/1_boston_housing.csv\n",
        "import pandas as pd\n",
        "df = pd.read_csv(\"./1_boston_housing.csv\")"
      ]
    },
    {
      "cell_type": "code",
      "execution_count": 6,
      "metadata": {
        "id": "4FEDjg8rsyi0"
      },
      "outputs": [],
      "source": [
        "from sklearn.model_selection import train_test_split\n",
        "\n",
        "X = df.loc[:, df.columns != 'MEDV']\n",
        "y = df.loc[:, df.columns == 'MEDV']\n",
        "X_train, X_test, y_train, y_test = train_test_split(X, y, test_size=0.3, random_state=123)"
      ]
    },
    {
      "cell_type": "code",
      "execution_count": 7,
      "metadata": {
        "id": "c__jhLM7s6h4"
      },
      "outputs": [],
      "source": [
        "from sklearn.preprocessing import MinMaxScaler\n",
        "mms = MinMaxScaler()\n",
        "mms.fit(X_train)\n",
        "X_train = mms.transform(X_train)\n",
        "X_test = mms.transform(X_test)"
      ]
    },
    {
      "cell_type": "code",
      "execution_count": 8,
      "metadata": {
        "colab": {
          "base_uri": "https://localhost:8080/"
        },
        "id": "VL8VMy_fs3fl",
        "outputId": "00b78b36-31d9-4c78-c741-b3f2577b2d14"
      },
      "outputs": [
        {
          "output_type": "stream",
          "name": "stdout",
          "text": [
            "Model: \"sequential\"\n",
            "_________________________________________________________________\n",
            " Layer (type)                Output Shape              Param #   \n",
            "=================================================================\n",
            " dense_1 (Dense)             (None, 128)               1792      \n",
            "                                                                 \n",
            " dense_2 (Dense)             (None, 64)                8256      \n",
            "                                                                 \n",
            " dense_output (Dense)        (None, 1)                 65        \n",
            "                                                                 \n",
            "=================================================================\n",
            "Total params: 10113 (39.50 KB)\n",
            "Trainable params: 10113 (39.50 KB)\n",
            "Non-trainable params: 0 (0.00 Byte)\n",
            "_________________________________________________________________\n"
          ]
        }
      ],
      "source": [
        "from tensorflow.keras.models import Sequential\n",
        "from tensorflow.keras.layers import Dense\n",
        "\n",
        "model = Sequential()\n",
        "\n",
        "model.add(Dense(128, input_shape=(13, ), activation='relu', name='dense_1'))\n",
        "model.add(Dense(64, activation='relu', name='dense_2'))\n",
        "model.add(Dense(1, activation='linear', name='dense_output'))\n",
        "\n",
        "model.compile(optimizer='adam', loss='mse', metrics=['mae'])\n",
        "model.summary()"
      ]
    },
    {
      "cell_type": "code",
      "execution_count": 9,
      "metadata": {
        "colab": {
          "base_uri": "https://localhost:8080/"
        },
        "id": "Y7m71ooKs5of",
        "outputId": "01a4b8bc-1e8f-42c0-c7ec-a8b9384c6ebb"
      },
      "outputs": [
        {
          "output_type": "stream",
          "name": "stdout",
          "text": [
            "Epoch 1/100\n",
            "11/11 [==============================] - 1s 28ms/step - loss: 587.1183 - mae: 22.3823 - val_loss: 606.0590 - val_mae: 22.6941\n",
            "Epoch 2/100\n",
            "11/11 [==============================] - 0s 6ms/step - loss: 542.5378 - mae: 21.3215 - val_loss: 544.1174 - val_mae: 21.2410\n",
            "Epoch 3/100\n",
            "11/11 [==============================] - 0s 8ms/step - loss: 465.0205 - mae: 19.3239 - val_loss: 441.4164 - val_mae: 18.5684\n",
            "Epoch 4/100\n",
            "11/11 [==============================] - 0s 6ms/step - loss: 348.4641 - mae: 16.0115 - val_loss: 301.9513 - val_mae: 14.2828\n",
            "Epoch 5/100\n",
            "11/11 [==============================] - 0s 7ms/step - loss: 219.2625 - mae: 11.6994 - val_loss: 175.2065 - val_mae: 9.4453\n",
            "Epoch 6/100\n",
            "11/11 [==============================] - 0s 5ms/step - loss: 139.5119 - mae: 9.1448 - val_loss: 126.5360 - val_mae: 8.0609\n",
            "Epoch 7/100\n",
            "11/11 [==============================] - 0s 5ms/step - loss: 123.7756 - mae: 8.5499 - val_loss: 113.4912 - val_mae: 7.6603\n",
            "Epoch 8/100\n",
            "11/11 [==============================] - 0s 8ms/step - loss: 104.6657 - mae: 7.7353 - val_loss: 104.3358 - val_mae: 7.1448\n",
            "Epoch 9/100\n",
            "11/11 [==============================] - 0s 7ms/step - loss: 89.8459 - mae: 6.9565 - val_loss: 96.3646 - val_mae: 6.7158\n",
            "Epoch 10/100\n",
            "11/11 [==============================] - 0s 8ms/step - loss: 79.6033 - mae: 6.4219 - val_loss: 86.9283 - val_mae: 6.3699\n",
            "Epoch 11/100\n",
            "11/11 [==============================] - 0s 8ms/step - loss: 69.9309 - mae: 6.0407 - val_loss: 80.4915 - val_mae: 6.2028\n",
            "Epoch 12/100\n",
            "11/11 [==============================] - 0s 8ms/step - loss: 63.1782 - mae: 5.7100 - val_loss: 76.0925 - val_mae: 6.0439\n",
            "Epoch 13/100\n",
            "11/11 [==============================] - 0s 7ms/step - loss: 58.2357 - mae: 5.4079 - val_loss: 72.3169 - val_mae: 5.9885\n",
            "Epoch 14/100\n",
            "11/11 [==============================] - 0s 5ms/step - loss: 54.5486 - mae: 5.1799 - val_loss: 70.0883 - val_mae: 5.8590\n",
            "Epoch 15/100\n",
            "11/11 [==============================] - 0s 4ms/step - loss: 52.1277 - mae: 5.1109 - val_loss: 66.7933 - val_mae: 6.0312\n",
            "Epoch 16/100\n",
            "11/11 [==============================] - 0s 4ms/step - loss: 49.5264 - mae: 4.9467 - val_loss: 66.2290 - val_mae: 5.6759\n",
            "Epoch 17/100\n",
            "11/11 [==============================] - 0s 4ms/step - loss: 47.9762 - mae: 4.8631 - val_loss: 63.4055 - val_mae: 5.7838\n",
            "Epoch 18/100\n",
            "11/11 [==============================] - 0s 4ms/step - loss: 46.1811 - mae: 4.6898 - val_loss: 63.5122 - val_mae: 5.4589\n",
            "Epoch 19/100\n",
            "11/11 [==============================] - 0s 4ms/step - loss: 44.0044 - mae: 4.6274 - val_loss: 59.5637 - val_mae: 5.7831\n",
            "Epoch 20/100\n",
            "11/11 [==============================] - 0s 4ms/step - loss: 42.3539 - mae: 4.6099 - val_loss: 58.5690 - val_mae: 5.5599\n",
            "Epoch 21/100\n",
            "11/11 [==============================] - 0s 4ms/step - loss: 40.5959 - mae: 4.4691 - val_loss: 57.0743 - val_mae: 5.4420\n",
            "Epoch 22/100\n",
            "11/11 [==============================] - 0s 4ms/step - loss: 38.9899 - mae: 4.3544 - val_loss: 55.5043 - val_mae: 5.3716\n",
            "Epoch 23/100\n",
            "11/11 [==============================] - 0s 4ms/step - loss: 37.3778 - mae: 4.2561 - val_loss: 54.5927 - val_mae: 5.2096\n",
            "Epoch 24/100\n",
            "11/11 [==============================] - 0s 5ms/step - loss: 36.0994 - mae: 4.1254 - val_loss: 53.0393 - val_mae: 5.1520\n",
            "Epoch 25/100\n",
            "11/11 [==============================] - 0s 4ms/step - loss: 34.6546 - mae: 4.0580 - val_loss: 51.4370 - val_mae: 5.0750\n",
            "Epoch 26/100\n",
            "11/11 [==============================] - 0s 4ms/step - loss: 33.4365 - mae: 4.0929 - val_loss: 49.4125 - val_mae: 5.0746\n",
            "Epoch 27/100\n",
            "11/11 [==============================] - 0s 4ms/step - loss: 31.7851 - mae: 3.9100 - val_loss: 49.9282 - val_mae: 4.8982\n",
            "Epoch 28/100\n",
            "11/11 [==============================] - 0s 4ms/step - loss: 30.6707 - mae: 3.8188 - val_loss: 47.0046 - val_mae: 4.8891\n",
            "Epoch 29/100\n",
            "11/11 [==============================] - 0s 4ms/step - loss: 29.2506 - mae: 3.7616 - val_loss: 46.3524 - val_mae: 4.8488\n",
            "Epoch 30/100\n",
            "11/11 [==============================] - 0s 4ms/step - loss: 28.0274 - mae: 3.6532 - val_loss: 45.1296 - val_mae: 4.8203\n",
            "Epoch 31/100\n",
            "11/11 [==============================] - 0s 4ms/step - loss: 27.0017 - mae: 3.5884 - val_loss: 44.1749 - val_mae: 4.7840\n",
            "Epoch 32/100\n",
            "11/11 [==============================] - 0s 4ms/step - loss: 25.9868 - mae: 3.4699 - val_loss: 42.6905 - val_mae: 4.7601\n",
            "Epoch 33/100\n",
            "11/11 [==============================] - 0s 4ms/step - loss: 24.8525 - mae: 3.4509 - val_loss: 41.2407 - val_mae: 4.7363\n",
            "Epoch 34/100\n",
            "11/11 [==============================] - 0s 4ms/step - loss: 24.2842 - mae: 3.3686 - val_loss: 40.6969 - val_mae: 4.6829\n",
            "Epoch 35/100\n",
            "11/11 [==============================] - 0s 4ms/step - loss: 23.3179 - mae: 3.3434 - val_loss: 39.7933 - val_mae: 4.6436\n",
            "Epoch 36/100\n",
            "11/11 [==============================] - 0s 4ms/step - loss: 22.5235 - mae: 3.2175 - val_loss: 39.8881 - val_mae: 4.5765\n",
            "Epoch 37/100\n",
            "11/11 [==============================] - 0s 4ms/step - loss: 21.8092 - mae: 3.1794 - val_loss: 38.1457 - val_mae: 4.5527\n",
            "Epoch 38/100\n",
            "11/11 [==============================] - 0s 4ms/step - loss: 21.2030 - mae: 3.1612 - val_loss: 38.3030 - val_mae: 4.4946\n",
            "Epoch 39/100\n",
            "11/11 [==============================] - 0s 4ms/step - loss: 20.6995 - mae: 3.0681 - val_loss: 38.4637 - val_mae: 4.4538\n",
            "Epoch 40/100\n",
            "11/11 [==============================] - 0s 4ms/step - loss: 20.2254 - mae: 3.0605 - val_loss: 36.9747 - val_mae: 4.4238\n",
            "Epoch 41/100\n",
            "11/11 [==============================] - 0s 4ms/step - loss: 19.6928 - mae: 3.0271 - val_loss: 36.6067 - val_mae: 4.3702\n",
            "Epoch 42/100\n",
            "11/11 [==============================] - 0s 4ms/step - loss: 19.3476 - mae: 2.9915 - val_loss: 36.5108 - val_mae: 4.3112\n",
            "Epoch 43/100\n",
            "11/11 [==============================] - 0s 4ms/step - loss: 19.1028 - mae: 2.9259 - val_loss: 36.0625 - val_mae: 4.2640\n",
            "Epoch 44/100\n",
            "11/11 [==============================] - 0s 4ms/step - loss: 18.6660 - mae: 2.9570 - val_loss: 35.1161 - val_mae: 4.2346\n",
            "Epoch 45/100\n",
            "11/11 [==============================] - 0s 5ms/step - loss: 18.5953 - mae: 2.8894 - val_loss: 36.8611 - val_mae: 4.1626\n",
            "Epoch 46/100\n",
            "11/11 [==============================] - 0s 4ms/step - loss: 18.4613 - mae: 2.9788 - val_loss: 33.5007 - val_mae: 4.1498\n",
            "Epoch 47/100\n",
            "11/11 [==============================] - 0s 4ms/step - loss: 17.7567 - mae: 2.8489 - val_loss: 36.1701 - val_mae: 4.1003\n",
            "Epoch 48/100\n",
            "11/11 [==============================] - 0s 4ms/step - loss: 17.5771 - mae: 2.8114 - val_loss: 33.8591 - val_mae: 4.0475\n",
            "Epoch 49/100\n",
            "11/11 [==============================] - 0s 4ms/step - loss: 17.7149 - mae: 2.8828 - val_loss: 33.9724 - val_mae: 4.0129\n",
            "Epoch 50/100\n",
            "11/11 [==============================] - 0s 4ms/step - loss: 17.1948 - mae: 2.7898 - val_loss: 34.6384 - val_mae: 3.9858\n",
            "Epoch 51/100\n",
            "11/11 [==============================] - 0s 4ms/step - loss: 17.1080 - mae: 2.7771 - val_loss: 33.5506 - val_mae: 3.9412\n",
            "Epoch 52/100\n",
            "11/11 [==============================] - 0s 4ms/step - loss: 16.8075 - mae: 2.7568 - val_loss: 33.5093 - val_mae: 3.9143\n",
            "Epoch 53/100\n",
            "11/11 [==============================] - 0s 4ms/step - loss: 16.6490 - mae: 2.7652 - val_loss: 32.5894 - val_mae: 3.8615\n",
            "Epoch 54/100\n",
            "11/11 [==============================] - 0s 4ms/step - loss: 16.5998 - mae: 2.7264 - val_loss: 32.7228 - val_mae: 3.8254\n",
            "Epoch 55/100\n",
            "11/11 [==============================] - 0s 5ms/step - loss: 16.3810 - mae: 2.7371 - val_loss: 32.2739 - val_mae: 3.8035\n",
            "Epoch 56/100\n",
            "11/11 [==============================] - 0s 4ms/step - loss: 16.3730 - mae: 2.7099 - val_loss: 32.7070 - val_mae: 3.7913\n",
            "Epoch 57/100\n",
            "11/11 [==============================] - 0s 4ms/step - loss: 16.2355 - mae: 2.7408 - val_loss: 31.2883 - val_mae: 3.7432\n",
            "Epoch 58/100\n",
            "11/11 [==============================] - 0s 4ms/step - loss: 16.0807 - mae: 2.6991 - val_loss: 32.6648 - val_mae: 3.7386\n",
            "Epoch 59/100\n",
            "11/11 [==============================] - 0s 4ms/step - loss: 15.9894 - mae: 2.7035 - val_loss: 31.7505 - val_mae: 3.7032\n",
            "Epoch 60/100\n",
            "11/11 [==============================] - 0s 4ms/step - loss: 15.8098 - mae: 2.6880 - val_loss: 32.5003 - val_mae: 3.7008\n",
            "Epoch 61/100\n",
            "11/11 [==============================] - 0s 4ms/step - loss: 15.6389 - mae: 2.6655 - val_loss: 30.8424 - val_mae: 3.6509\n",
            "Epoch 62/100\n",
            "11/11 [==============================] - 0s 4ms/step - loss: 15.6862 - mae: 2.6977 - val_loss: 32.2526 - val_mae: 3.6622\n",
            "Epoch 63/100\n",
            "11/11 [==============================] - 0s 4ms/step - loss: 15.6144 - mae: 2.6675 - val_loss: 31.5977 - val_mae: 3.6196\n",
            "Epoch 64/100\n",
            "11/11 [==============================] - 0s 4ms/step - loss: 15.3641 - mae: 2.6199 - val_loss: 31.4618 - val_mae: 3.5908\n",
            "Epoch 65/100\n",
            "11/11 [==============================] - 0s 4ms/step - loss: 15.4599 - mae: 2.6555 - val_loss: 29.7439 - val_mae: 3.5195\n",
            "Epoch 66/100\n",
            "11/11 [==============================] - 0s 5ms/step - loss: 15.5007 - mae: 2.6349 - val_loss: 30.9260 - val_mae: 3.5301\n",
            "Epoch 67/100\n",
            "11/11 [==============================] - 0s 4ms/step - loss: 15.5829 - mae: 2.7298 - val_loss: 29.9833 - val_mae: 3.4853\n",
            "Epoch 68/100\n",
            "11/11 [==============================] - 0s 4ms/step - loss: 15.1263 - mae: 2.5880 - val_loss: 30.5833 - val_mae: 3.4990\n",
            "Epoch 69/100\n",
            "11/11 [==============================] - 0s 4ms/step - loss: 14.9635 - mae: 2.6182 - val_loss: 29.1878 - val_mae: 3.4216\n",
            "Epoch 70/100\n",
            "11/11 [==============================] - 0s 4ms/step - loss: 14.8724 - mae: 2.5868 - val_loss: 30.2500 - val_mae: 3.4445\n",
            "Epoch 71/100\n",
            "11/11 [==============================] - 0s 4ms/step - loss: 14.8739 - mae: 2.6365 - val_loss: 28.8856 - val_mae: 3.3781\n",
            "Epoch 72/100\n",
            "11/11 [==============================] - 0s 4ms/step - loss: 14.8728 - mae: 2.5791 - val_loss: 29.4172 - val_mae: 3.3824\n",
            "Epoch 73/100\n",
            "11/11 [==============================] - 0s 4ms/step - loss: 14.5854 - mae: 2.5817 - val_loss: 28.6617 - val_mae: 3.3407\n",
            "Epoch 74/100\n",
            "11/11 [==============================] - 0s 4ms/step - loss: 14.6351 - mae: 2.6065 - val_loss: 29.2335 - val_mae: 3.3443\n",
            "Epoch 75/100\n",
            "11/11 [==============================] - 0s 4ms/step - loss: 14.6350 - mae: 2.5522 - val_loss: 28.8110 - val_mae: 3.3131\n",
            "Epoch 76/100\n",
            "11/11 [==============================] - 0s 4ms/step - loss: 14.5138 - mae: 2.5987 - val_loss: 29.2407 - val_mae: 3.3304\n",
            "Epoch 77/100\n",
            "11/11 [==============================] - 0s 4ms/step - loss: 14.3636 - mae: 2.5265 - val_loss: 28.4365 - val_mae: 3.2907\n",
            "Epoch 78/100\n",
            "11/11 [==============================] - 0s 4ms/step - loss: 14.3123 - mae: 2.5591 - val_loss: 28.3125 - val_mae: 3.2477\n",
            "Epoch 79/100\n",
            "11/11 [==============================] - 0s 4ms/step - loss: 14.2212 - mae: 2.5387 - val_loss: 28.6355 - val_mae: 3.2603\n",
            "Epoch 80/100\n",
            "11/11 [==============================] - 0s 4ms/step - loss: 14.1209 - mae: 2.5133 - val_loss: 28.0366 - val_mae: 3.2230\n",
            "Epoch 81/100\n",
            "11/11 [==============================] - 0s 4ms/step - loss: 14.0944 - mae: 2.5463 - val_loss: 28.1647 - val_mae: 3.2161\n",
            "Epoch 82/100\n",
            "11/11 [==============================] - 0s 4ms/step - loss: 14.0045 - mae: 2.4974 - val_loss: 27.5258 - val_mae: 3.1789\n",
            "Epoch 83/100\n",
            "11/11 [==============================] - 0s 4ms/step - loss: 13.8903 - mae: 2.5229 - val_loss: 27.8248 - val_mae: 3.1793\n",
            "Epoch 84/100\n",
            "11/11 [==============================] - 0s 4ms/step - loss: 14.0368 - mae: 2.5167 - val_loss: 26.9802 - val_mae: 3.1464\n",
            "Epoch 85/100\n",
            "11/11 [==============================] - 0s 4ms/step - loss: 13.9123 - mae: 2.4972 - val_loss: 28.5362 - val_mae: 3.1698\n",
            "Epoch 86/100\n",
            "11/11 [==============================] - 0s 4ms/step - loss: 14.2679 - mae: 2.5671 - val_loss: 27.7863 - val_mae: 3.1067\n",
            "Epoch 87/100\n",
            "11/11 [==============================] - 0s 5ms/step - loss: 13.8033 - mae: 2.4591 - val_loss: 26.8337 - val_mae: 3.0912\n",
            "Epoch 88/100\n",
            "11/11 [==============================] - 0s 4ms/step - loss: 13.8079 - mae: 2.4920 - val_loss: 27.1053 - val_mae: 3.0804\n",
            "Epoch 89/100\n",
            "11/11 [==============================] - 0s 4ms/step - loss: 13.5751 - mae: 2.4991 - val_loss: 26.9608 - val_mae: 3.0726\n",
            "Epoch 90/100\n",
            "11/11 [==============================] - 0s 4ms/step - loss: 13.5768 - mae: 2.4687 - val_loss: 26.6630 - val_mae: 3.0497\n",
            "Epoch 91/100\n",
            "11/11 [==============================] - 0s 4ms/step - loss: 13.5172 - mae: 2.4693 - val_loss: 27.6539 - val_mae: 3.0747\n",
            "Epoch 92/100\n",
            "11/11 [==============================] - 0s 4ms/step - loss: 13.3434 - mae: 2.4487 - val_loss: 26.0978 - val_mae: 3.0370\n",
            "Epoch 93/100\n",
            "11/11 [==============================] - 0s 4ms/step - loss: 13.3868 - mae: 2.4890 - val_loss: 27.8268 - val_mae: 3.0790\n",
            "Epoch 94/100\n",
            "11/11 [==============================] - 0s 4ms/step - loss: 13.4216 - mae: 2.4214 - val_loss: 25.5557 - val_mae: 2.9805\n",
            "Epoch 95/100\n",
            "11/11 [==============================] - 0s 4ms/step - loss: 13.4009 - mae: 2.5267 - val_loss: 27.1241 - val_mae: 3.0117\n",
            "Epoch 96/100\n",
            "11/11 [==============================] - 0s 4ms/step - loss: 13.3328 - mae: 2.4221 - val_loss: 25.6084 - val_mae: 2.9550\n",
            "Epoch 97/100\n",
            "11/11 [==============================] - 0s 4ms/step - loss: 13.4070 - mae: 2.4834 - val_loss: 26.6209 - val_mae: 2.9853\n",
            "Epoch 98/100\n",
            "11/11 [==============================] - 0s 4ms/step - loss: 13.3560 - mae: 2.5226 - val_loss: 25.5466 - val_mae: 2.9554\n",
            "Epoch 99/100\n",
            "11/11 [==============================] - 0s 4ms/step - loss: 13.3410 - mae: 2.4133 - val_loss: 26.1385 - val_mae: 2.9494\n",
            "Epoch 100/100\n",
            "11/11 [==============================] - 0s 4ms/step - loss: 13.0588 - mae: 2.4345 - val_loss: 26.0410 - val_mae: 2.9518\n"
          ]
        }
      ],
      "source": [
        "history = model.fit(X_train, y_train, epochs=100, validation_split=0.05, verbose = 1)"
      ]
    },
    {
      "cell_type": "markdown",
      "source": [],
      "metadata": {
        "id": "bKz30ZhV0r8i"
      }
    },
    {
      "cell_type": "markdown",
      "source": [],
      "metadata": {
        "id": "Ii11zAl00r3C"
      }
    },
    {
      "cell_type": "code",
      "execution_count": null,
      "metadata": {
        "colab": {
          "base_uri": "https://localhost:8080/"
        },
        "id": "MzY8zjL5s9jS",
        "outputId": "48a88cbe-ef1d-456a-b104-f0210b2bb424"
      },
      "outputs": [
        {
          "name": "stdout",
          "output_type": "stream",
          "text": [
            "5/5 [==============================] - 0s 2ms/step - loss: 25.9594 - mae: 3.8497\n",
            "Mean squared error on test data:  25.959447860717773\n",
            "Mean absolute error on test data:  3.8496510982513428\n"
          ]
        }
      ],
      "source": [
        "mse_nn, mae_nn = model.evaluate(X_test, y_test)\n",
        "\n",
        "print('Mean squared error on test data: ', mse_nn)\n",
        "print('Mean absolute error on test data: ', mae_nn)"
      ]
    }
  ],
  "metadata": {
    "colab": {
      "provenance": [],
      "include_colab_link": true
    },
    "kernelspec": {
      "display_name": "Python 3",
      "name": "python3"
    },
    "language_info": {
      "codemirror_mode": {
        "name": "ipython",
        "version": 3
      },
      "file_extension": ".py",
      "mimetype": "text/x-python",
      "name": "python",
      "nbconvert_exporter": "python",
      "pygments_lexer": "ipython3",
      "version": "3.11.2"
    }
  },
  "nbformat": 4,
  "nbformat_minor": 0
}